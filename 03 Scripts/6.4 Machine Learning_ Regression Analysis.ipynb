{
 "cells": [
  {
   "cell_type": "markdown",
   "metadata": {},
   "source": [
    "## 6.4 Machine Learning Part 1"
   ]
  },
  {
   "cell_type": "markdown",
   "metadata": {},
   "source": [
    "### This script contains the following:\n",
    "\n",
    "#### 1. Importing libraries and data\n",
    "#### 2. Data cleaning\n",
    "#### 3. Data prep for regression analysis\n",
    "#### 4. Regression analysis\n",
    "#### Bonus: performance improvement after removing outliers\n",
    "####   - Multiple Regression (trial)"
   ]
  },
  {
   "cell_type": "markdown",
   "metadata": {},
   "source": [
    "### 1. Importing libraries and data"
   ]
  },
  {
   "cell_type": "code",
   "execution_count": 1,
   "metadata": {},
   "outputs": [],
   "source": [
    "import pandas as pd\n",
    "import numpy as np\n",
    "import seaborn as sns\n",
    "import matplotlib\n",
    "import matplotlib.pyplot as plt\n",
    "import os\n",
    "import sklearn\n",
    "from sklearn.model_selection import train_test_split \n",
    "from sklearn.linear_model import LinearRegression\n",
    "from sklearn.metrics import mean_squared_error, r2_score"
   ]
  },
  {
   "cell_type": "code",
   "execution_count": 2,
   "metadata": {},
   "outputs": [],
   "source": [
    "# This option ensures that the graphs you create are displayed within the notebook without the need to \"call\" them specifically.\n",
    "\n",
    "%matplotlib inline"
   ]
  },
  {
   "cell_type": "code",
   "execution_count": 3,
   "metadata": {},
   "outputs": [],
   "source": [
    "path = r\"C:\\Users\\fardi\\OneDrive\\Desktop\\CF\\Data Immersion\\A6.Advanced Analytics & Dashboard Design\\05-12-2021 Germany Apartment Rental\""
   ]
  },
  {
   "cell_type": "code",
   "execution_count": 4,
   "metadata": {},
   "outputs": [],
   "source": [
    "df = pd.read_csv(os.path.join(path, '02 Data', 'Prepared Data', 'immo_data_clean.csv'))"
   ]
  },
  {
   "cell_type": "markdown",
   "metadata": {},
   "source": [
    "### 2. Data cleaning"
   ]
  },
  {
   "cell_type": "code",
   "execution_count": 5,
   "metadata": {
    "scrolled": true
   },
   "outputs": [
    {
     "data": {
      "text/plain": [
       "Index(['Unnamed: 0', 'serviceCharge', 'heatingType', 'newlyConst', 'balcony',\n",
       "       'totalRent', 'yearConstructed', 'hasKitchen', 'geo_bln', 'cellar',\n",
       "       'baseRent', 'livingSpace', 'geo_krs', 'condition', 'interiorQual',\n",
       "       'petsAllowed', 'street', 'lift', 'typeOfFlat', 'noRooms', 'floor',\n",
       "       'numberOfFloors', 'garden', 'regio3', 'date'],\n",
       "      dtype='object')"
      ]
     },
     "execution_count": 5,
     "metadata": {},
     "output_type": "execute_result"
    }
   ],
   "source": [
    "df.columns"
   ]
  },
  {
   "cell_type": "code",
   "execution_count": 6,
   "metadata": {},
   "outputs": [],
   "source": [
    "#### Drop column 'Unnamed: 0'\n",
    "df = df.drop(['Unnamed: 0' ], axis=1)"
   ]
  },
  {
   "cell_type": "code",
   "execution_count": 7,
   "metadata": {
    "scrolled": true
   },
   "outputs": [
    {
     "data": {
      "text/html": [
       "<div>\n",
       "<style scoped>\n",
       "    .dataframe tbody tr th:only-of-type {\n",
       "        vertical-align: middle;\n",
       "    }\n",
       "\n",
       "    .dataframe tbody tr th {\n",
       "        vertical-align: top;\n",
       "    }\n",
       "\n",
       "    .dataframe thead th {\n",
       "        text-align: right;\n",
       "    }\n",
       "</style>\n",
       "<table border=\"1\" class=\"dataframe\">\n",
       "  <thead>\n",
       "    <tr style=\"text-align: right;\">\n",
       "      <th></th>\n",
       "      <th>serviceCharge</th>\n",
       "      <th>heatingType</th>\n",
       "      <th>newlyConst</th>\n",
       "      <th>balcony</th>\n",
       "      <th>totalRent</th>\n",
       "      <th>yearConstructed</th>\n",
       "      <th>hasKitchen</th>\n",
       "      <th>geo_bln</th>\n",
       "      <th>cellar</th>\n",
       "      <th>baseRent</th>\n",
       "      <th>...</th>\n",
       "      <th>petsAllowed</th>\n",
       "      <th>street</th>\n",
       "      <th>lift</th>\n",
       "      <th>typeOfFlat</th>\n",
       "      <th>noRooms</th>\n",
       "      <th>floor</th>\n",
       "      <th>numberOfFloors</th>\n",
       "      <th>garden</th>\n",
       "      <th>regio3</th>\n",
       "      <th>date</th>\n",
       "    </tr>\n",
       "  </thead>\n",
       "  <tbody>\n",
       "    <tr>\n",
       "      <th>0</th>\n",
       "      <td>245.00</td>\n",
       "      <td>central_heating</td>\n",
       "      <td>False</td>\n",
       "      <td>False</td>\n",
       "      <td>840.00</td>\n",
       "      <td>1965.0</td>\n",
       "      <td>False</td>\n",
       "      <td>Nordrhein_Westfalen</td>\n",
       "      <td>True</td>\n",
       "      <td>595.00</td>\n",
       "      <td>...</td>\n",
       "      <td>no</td>\n",
       "      <td>Sch&amp;uuml;ruferstra&amp;szlig;e</td>\n",
       "      <td>False</td>\n",
       "      <td>ground_floor</td>\n",
       "      <td>4.0</td>\n",
       "      <td>1.0</td>\n",
       "      <td>3.000000</td>\n",
       "      <td>True</td>\n",
       "      <td>SchÃ¼ren</td>\n",
       "      <td>43586</td>\n",
       "    </tr>\n",
       "    <tr>\n",
       "      <th>1</th>\n",
       "      <td>255.00</td>\n",
       "      <td>floor_heating</td>\n",
       "      <td>True</td>\n",
       "      <td>True</td>\n",
       "      <td>1300.00</td>\n",
       "      <td>2019.0</td>\n",
       "      <td>False</td>\n",
       "      <td>Sachsen</td>\n",
       "      <td>True</td>\n",
       "      <td>965.00</td>\n",
       "      <td>...</td>\n",
       "      <td>no</td>\n",
       "      <td>Turnerweg</td>\n",
       "      <td>True</td>\n",
       "      <td>apartment</td>\n",
       "      <td>3.0</td>\n",
       "      <td>3.0</td>\n",
       "      <td>4.000000</td>\n",
       "      <td>False</td>\n",
       "      <td>ÃuÃere_Neustadt_Antonstadt</td>\n",
       "      <td>43739</td>\n",
       "    </tr>\n",
       "    <tr>\n",
       "      <th>2</th>\n",
       "      <td>138.00</td>\n",
       "      <td>self_contained_central_heating</td>\n",
       "      <td>False</td>\n",
       "      <td>True</td>\n",
       "      <td>903.00</td>\n",
       "      <td>1950.0</td>\n",
       "      <td>False</td>\n",
       "      <td>Bremen</td>\n",
       "      <td>False</td>\n",
       "      <td>765.00</td>\n",
       "      <td>...</td>\n",
       "      <td>no</td>\n",
       "      <td>Hermann-Henrich-Meier-Allee</td>\n",
       "      <td>False</td>\n",
       "      <td>apartment</td>\n",
       "      <td>3.0</td>\n",
       "      <td>1.0</td>\n",
       "      <td>3.670219</td>\n",
       "      <td>False</td>\n",
       "      <td>Neu_Schwachhausen</td>\n",
       "      <td>43862</td>\n",
       "    </tr>\n",
       "    <tr>\n",
       "      <th>3</th>\n",
       "      <td>110.00</td>\n",
       "      <td>oil_heating</td>\n",
       "      <td>False</td>\n",
       "      <td>False</td>\n",
       "      <td>690.00</td>\n",
       "      <td>1970.0</td>\n",
       "      <td>True</td>\n",
       "      <td>Baden_WÃ¼rttemberg</td>\n",
       "      <td>True</td>\n",
       "      <td>580.00</td>\n",
       "      <td>...</td>\n",
       "      <td>no</td>\n",
       "      <td>no_information</td>\n",
       "      <td>False</td>\n",
       "      <td>roof_storey</td>\n",
       "      <td>2.0</td>\n",
       "      <td>2.0</td>\n",
       "      <td>2.000000</td>\n",
       "      <td>False</td>\n",
       "      <td>Denzlingen</td>\n",
       "      <td>43862</td>\n",
       "    </tr>\n",
       "    <tr>\n",
       "      <th>4</th>\n",
       "      <td>88.00</td>\n",
       "      <td>central_heating</td>\n",
       "      <td>False</td>\n",
       "      <td>True</td>\n",
       "      <td>307.00</td>\n",
       "      <td>1930.0</td>\n",
       "      <td>False</td>\n",
       "      <td>Sachsen</td>\n",
       "      <td>True</td>\n",
       "      <td>219.00</td>\n",
       "      <td>...</td>\n",
       "      <td>no</td>\n",
       "      <td>Hofer Stra&amp;szlig;e</td>\n",
       "      <td>False</td>\n",
       "      <td>apartment</td>\n",
       "      <td>2.0</td>\n",
       "      <td>3.0</td>\n",
       "      <td>3.670219</td>\n",
       "      <td>False</td>\n",
       "      <td>Sonnenberg</td>\n",
       "      <td>43739</td>\n",
       "    </tr>\n",
       "    <tr>\n",
       "      <th>5</th>\n",
       "      <td>200.00</td>\n",
       "      <td>central_heating</td>\n",
       "      <td>False</td>\n",
       "      <td>False</td>\n",
       "      <td>1150.00</td>\n",
       "      <td>1951.0</td>\n",
       "      <td>False</td>\n",
       "      <td>Nordrhein_Westfalen</td>\n",
       "      <td>False</td>\n",
       "      <td>950.00</td>\n",
       "      <td>...</td>\n",
       "      <td>no</td>\n",
       "      <td>no_information</td>\n",
       "      <td>False</td>\n",
       "      <td>apartment</td>\n",
       "      <td>4.0</td>\n",
       "      <td>4.0</td>\n",
       "      <td>4.000000</td>\n",
       "      <td>False</td>\n",
       "      <td>Mitte</td>\n",
       "      <td>43739</td>\n",
       "    </tr>\n",
       "    <tr>\n",
       "      <th>6</th>\n",
       "      <td>215.00</td>\n",
       "      <td>gas_heating</td>\n",
       "      <td>True</td>\n",
       "      <td>True</td>\n",
       "      <td>1320.65</td>\n",
       "      <td>2018.0</td>\n",
       "      <td>False</td>\n",
       "      <td>Nordrhein_Westfalen</td>\n",
       "      <td>True</td>\n",
       "      <td>972.60</td>\n",
       "      <td>...</td>\n",
       "      <td>negotiable</td>\n",
       "      <td>Am Dimberg</td>\n",
       "      <td>True</td>\n",
       "      <td>ground_floor</td>\n",
       "      <td>3.0</td>\n",
       "      <td>0.0</td>\n",
       "      <td>4.000000</td>\n",
       "      <td>False</td>\n",
       "      <td>KirchhÃ¶rde</td>\n",
       "      <td>43586</td>\n",
       "    </tr>\n",
       "    <tr>\n",
       "      <th>7</th>\n",
       "      <td>80.00</td>\n",
       "      <td>district_heating</td>\n",
       "      <td>False</td>\n",
       "      <td>True</td>\n",
       "      <td>300.00</td>\n",
       "      <td>1990.0</td>\n",
       "      <td>False</td>\n",
       "      <td>ThÃ¼ringen</td>\n",
       "      <td>True</td>\n",
       "      <td>220.00</td>\n",
       "      <td>...</td>\n",
       "      <td>no</td>\n",
       "      <td>Birkenhof</td>\n",
       "      <td>False</td>\n",
       "      <td>apartment</td>\n",
       "      <td>1.0</td>\n",
       "      <td>4.0</td>\n",
       "      <td>5.000000</td>\n",
       "      <td>False</td>\n",
       "      <td>SchÃ¶ndorf</td>\n",
       "      <td>43344</td>\n",
       "    </tr>\n",
       "    <tr>\n",
       "      <th>8</th>\n",
       "      <td>290.00</td>\n",
       "      <td>district_heating</td>\n",
       "      <td>False</td>\n",
       "      <td>True</td>\n",
       "      <td>1878.48</td>\n",
       "      <td>2013.0</td>\n",
       "      <td>False</td>\n",
       "      <td>Niedersachsen</td>\n",
       "      <td>True</td>\n",
       "      <td>1343.48</td>\n",
       "      <td>...</td>\n",
       "      <td>negotiable</td>\n",
       "      <td>Robert-Gernhardt-Platz</td>\n",
       "      <td>True</td>\n",
       "      <td>apartment</td>\n",
       "      <td>5.0</td>\n",
       "      <td>1.0</td>\n",
       "      <td>4.000000</td>\n",
       "      <td>False</td>\n",
       "      <td>GÃ¶ttingen</td>\n",
       "      <td>43739</td>\n",
       "    </tr>\n",
       "    <tr>\n",
       "      <th>9</th>\n",
       "      <td>140.00</td>\n",
       "      <td>central_heating</td>\n",
       "      <td>False</td>\n",
       "      <td>True</td>\n",
       "      <td>1450.00</td>\n",
       "      <td>1978.0</td>\n",
       "      <td>False</td>\n",
       "      <td>Schleswig_Holstein</td>\n",
       "      <td>True</td>\n",
       "      <td>1150.00</td>\n",
       "      <td>...</td>\n",
       "      <td>negotiable</td>\n",
       "      <td>no_information</td>\n",
       "      <td>False</td>\n",
       "      <td>ground_floor</td>\n",
       "      <td>4.0</td>\n",
       "      <td>0.0</td>\n",
       "      <td>2.000000</td>\n",
       "      <td>True</td>\n",
       "      <td>Wittorf</td>\n",
       "      <td>43739</td>\n",
       "    </tr>\n",
       "    <tr>\n",
       "      <th>10</th>\n",
       "      <td>140.00</td>\n",
       "      <td>central_heating</td>\n",
       "      <td>False</td>\n",
       "      <td>True</td>\n",
       "      <td>760.00</td>\n",
       "      <td>1953.0</td>\n",
       "      <td>False</td>\n",
       "      <td>Hamburg</td>\n",
       "      <td>True</td>\n",
       "      <td>620.00</td>\n",
       "      <td>...</td>\n",
       "      <td>negotiable</td>\n",
       "      <td>B&amp;ouml;melburgweg</td>\n",
       "      <td>False</td>\n",
       "      <td>apartment</td>\n",
       "      <td>3.0</td>\n",
       "      <td>2.0</td>\n",
       "      <td>4.000000</td>\n",
       "      <td>False</td>\n",
       "      <td>Horn</td>\n",
       "      <td>43586</td>\n",
       "    </tr>\n",
       "    <tr>\n",
       "      <th>11</th>\n",
       "      <td>147.32</td>\n",
       "      <td>district_heating</td>\n",
       "      <td>False</td>\n",
       "      <td>True</td>\n",
       "      <td>447.62</td>\n",
       "      <td>1977.0</td>\n",
       "      <td>False</td>\n",
       "      <td>Sachsen_Anhalt</td>\n",
       "      <td>True</td>\n",
       "      <td>300.30</td>\n",
       "      <td>...</td>\n",
       "      <td>yes</td>\n",
       "      <td>Helene-Weigel-Stra&amp;szlig;e</td>\n",
       "      <td>True</td>\n",
       "      <td>apartment</td>\n",
       "      <td>3.0</td>\n",
       "      <td>6.0</td>\n",
       "      <td>3.670219</td>\n",
       "      <td>False</td>\n",
       "      <td>Kannenstieg</td>\n",
       "      <td>43862</td>\n",
       "    </tr>\n",
       "    <tr>\n",
       "      <th>12</th>\n",
       "      <td>0.00</td>\n",
       "      <td>central_heating</td>\n",
       "      <td>False</td>\n",
       "      <td>True</td>\n",
       "      <td>2400.00</td>\n",
       "      <td>1956.0</td>\n",
       "      <td>False</td>\n",
       "      <td>Bayern</td>\n",
       "      <td>False</td>\n",
       "      <td>2400.00</td>\n",
       "      <td>...</td>\n",
       "      <td>no</td>\n",
       "      <td>Burgunderstra&amp;szlig;e</td>\n",
       "      <td>True</td>\n",
       "      <td>apartment</td>\n",
       "      <td>3.0</td>\n",
       "      <td>1.0</td>\n",
       "      <td>3.670219</td>\n",
       "      <td>False</td>\n",
       "      <td>Schwabing_West</td>\n",
       "      <td>43586</td>\n",
       "    </tr>\n",
       "    <tr>\n",
       "      <th>13</th>\n",
       "      <td>130.00</td>\n",
       "      <td>district_heating</td>\n",
       "      <td>False</td>\n",
       "      <td>True</td>\n",
       "      <td>445.18</td>\n",
       "      <td>1976.0</td>\n",
       "      <td>False</td>\n",
       "      <td>Nordrhein_Westfalen</td>\n",
       "      <td>True</td>\n",
       "      <td>315.18</td>\n",
       "      <td>...</td>\n",
       "      <td>negotiable</td>\n",
       "      <td>Willbeckerstra&amp;szlig;e</td>\n",
       "      <td>True</td>\n",
       "      <td>terraced_flat</td>\n",
       "      <td>2.0</td>\n",
       "      <td>0.0</td>\n",
       "      <td>6.000000</td>\n",
       "      <td>True</td>\n",
       "      <td>Erkrath</td>\n",
       "      <td>43344</td>\n",
       "    </tr>\n",
       "    <tr>\n",
       "      <th>14</th>\n",
       "      <td>0.00</td>\n",
       "      <td>central_heating</td>\n",
       "      <td>False</td>\n",
       "      <td>True</td>\n",
       "      <td>2780.00</td>\n",
       "      <td>2016.0</td>\n",
       "      <td>False</td>\n",
       "      <td>Bayern</td>\n",
       "      <td>False</td>\n",
       "      <td>2780.00</td>\n",
       "      <td>...</td>\n",
       "      <td>no</td>\n",
       "      <td>Am Oberwiesenfeld</td>\n",
       "      <td>True</td>\n",
       "      <td>apartment</td>\n",
       "      <td>3.0</td>\n",
       "      <td>5.0</td>\n",
       "      <td>3.670219</td>\n",
       "      <td>False</td>\n",
       "      <td>Milbertshofen</td>\n",
       "      <td>43862</td>\n",
       "    </tr>\n",
       "    <tr>\n",
       "      <th>15</th>\n",
       "      <td>260.00</td>\n",
       "      <td>wood_pellet_heating</td>\n",
       "      <td>False</td>\n",
       "      <td>False</td>\n",
       "      <td>1195.00</td>\n",
       "      <td>2013.0</td>\n",
       "      <td>True</td>\n",
       "      <td>Hessen</td>\n",
       "      <td>False</td>\n",
       "      <td>935.00</td>\n",
       "      <td>...</td>\n",
       "      <td>no</td>\n",
       "      <td>Schulstr.</td>\n",
       "      <td>False</td>\n",
       "      <td>apartment</td>\n",
       "      <td>1.0</td>\n",
       "      <td>3.0</td>\n",
       "      <td>2.000000</td>\n",
       "      <td>False</td>\n",
       "      <td>Raunheim</td>\n",
       "      <td>43739</td>\n",
       "    </tr>\n",
       "    <tr>\n",
       "      <th>16</th>\n",
       "      <td>140.00</td>\n",
       "      <td>central_heating</td>\n",
       "      <td>False</td>\n",
       "      <td>False</td>\n",
       "      <td>548.00</td>\n",
       "      <td>1996.0</td>\n",
       "      <td>False</td>\n",
       "      <td>Sachsen</td>\n",
       "      <td>True</td>\n",
       "      <td>408.00</td>\n",
       "      <td>...</td>\n",
       "      <td>no</td>\n",
       "      <td>Gustav-Klimpel-Stra&amp;szlig;e</td>\n",
       "      <td>False</td>\n",
       "      <td>apartment</td>\n",
       "      <td>2.0</td>\n",
       "      <td>1.0</td>\n",
       "      <td>2.000000</td>\n",
       "      <td>False</td>\n",
       "      <td>Freital</td>\n",
       "      <td>43586</td>\n",
       "    </tr>\n",
       "    <tr>\n",
       "      <th>17</th>\n",
       "      <td>140.00</td>\n",
       "      <td>district_heating</td>\n",
       "      <td>False</td>\n",
       "      <td>True</td>\n",
       "      <td>546.00</td>\n",
       "      <td>1966.0</td>\n",
       "      <td>False</td>\n",
       "      <td>Sachsen</td>\n",
       "      <td>True</td>\n",
       "      <td>406.00</td>\n",
       "      <td>...</td>\n",
       "      <td>negotiable</td>\n",
       "      <td>Birkenweg</td>\n",
       "      <td>False</td>\n",
       "      <td>apartment</td>\n",
       "      <td>3.0</td>\n",
       "      <td>3.0</td>\n",
       "      <td>3.670219</td>\n",
       "      <td>False</td>\n",
       "      <td>LÃ¶bau</td>\n",
       "      <td>43586</td>\n",
       "    </tr>\n",
       "    <tr>\n",
       "      <th>18</th>\n",
       "      <td>130.00</td>\n",
       "      <td>oil_heating</td>\n",
       "      <td>False</td>\n",
       "      <td>True</td>\n",
       "      <td>396.00</td>\n",
       "      <td>1987.0</td>\n",
       "      <td>False</td>\n",
       "      <td>Sachsen</td>\n",
       "      <td>True</td>\n",
       "      <td>266.00</td>\n",
       "      <td>...</td>\n",
       "      <td>negotiable</td>\n",
       "      <td>Klixer Str.</td>\n",
       "      <td>False</td>\n",
       "      <td>apartment</td>\n",
       "      <td>3.0</td>\n",
       "      <td>1.0</td>\n",
       "      <td>3.000000</td>\n",
       "      <td>True</td>\n",
       "      <td>Radibor</td>\n",
       "      <td>43739</td>\n",
       "    </tr>\n",
       "    <tr>\n",
       "      <th>19</th>\n",
       "      <td>80.00</td>\n",
       "      <td>central_heating</td>\n",
       "      <td>False</td>\n",
       "      <td>False</td>\n",
       "      <td>340.00</td>\n",
       "      <td>1920.0</td>\n",
       "      <td>False</td>\n",
       "      <td>Sachsen_Anhalt</td>\n",
       "      <td>False</td>\n",
       "      <td>260.00</td>\n",
       "      <td>...</td>\n",
       "      <td>yes</td>\n",
       "      <td>Regensburger Stra&amp;szlig;e</td>\n",
       "      <td>False</td>\n",
       "      <td>roof_storey</td>\n",
       "      <td>2.0</td>\n",
       "      <td>3.0</td>\n",
       "      <td>3.000000</td>\n",
       "      <td>False</td>\n",
       "      <td>Radewell_Osendorf</td>\n",
       "      <td>43586</td>\n",
       "    </tr>\n",
       "  </tbody>\n",
       "</table>\n",
       "<p>20 rows × 24 columns</p>\n",
       "</div>"
      ],
      "text/plain": [
       "    serviceCharge                     heatingType  newlyConst  balcony  \\\n",
       "0          245.00                 central_heating       False    False   \n",
       "1          255.00                   floor_heating        True     True   \n",
       "2          138.00  self_contained_central_heating       False     True   \n",
       "3          110.00                     oil_heating       False    False   \n",
       "4           88.00                 central_heating       False     True   \n",
       "5          200.00                 central_heating       False    False   \n",
       "6          215.00                     gas_heating        True     True   \n",
       "7           80.00                district_heating       False     True   \n",
       "8          290.00                district_heating       False     True   \n",
       "9          140.00                 central_heating       False     True   \n",
       "10         140.00                 central_heating       False     True   \n",
       "11         147.32                district_heating       False     True   \n",
       "12           0.00                 central_heating       False     True   \n",
       "13         130.00                district_heating       False     True   \n",
       "14           0.00                 central_heating       False     True   \n",
       "15         260.00             wood_pellet_heating       False    False   \n",
       "16         140.00                 central_heating       False    False   \n",
       "17         140.00                district_heating       False     True   \n",
       "18         130.00                     oil_heating       False     True   \n",
       "19          80.00                 central_heating       False    False   \n",
       "\n",
       "    totalRent  yearConstructed  hasKitchen              geo_bln  cellar  \\\n",
       "0      840.00           1965.0       False  Nordrhein_Westfalen    True   \n",
       "1     1300.00           2019.0       False              Sachsen    True   \n",
       "2      903.00           1950.0       False               Bremen   False   \n",
       "3      690.00           1970.0        True   Baden_WÃ¼rttemberg    True   \n",
       "4      307.00           1930.0       False              Sachsen    True   \n",
       "5     1150.00           1951.0       False  Nordrhein_Westfalen   False   \n",
       "6     1320.65           2018.0       False  Nordrhein_Westfalen    True   \n",
       "7      300.00           1990.0       False           ThÃ¼ringen    True   \n",
       "8     1878.48           2013.0       False        Niedersachsen    True   \n",
       "9     1450.00           1978.0       False   Schleswig_Holstein    True   \n",
       "10     760.00           1953.0       False              Hamburg    True   \n",
       "11     447.62           1977.0       False       Sachsen_Anhalt    True   \n",
       "12    2400.00           1956.0       False               Bayern   False   \n",
       "13     445.18           1976.0       False  Nordrhein_Westfalen    True   \n",
       "14    2780.00           2016.0       False               Bayern   False   \n",
       "15    1195.00           2013.0        True               Hessen   False   \n",
       "16     548.00           1996.0       False              Sachsen    True   \n",
       "17     546.00           1966.0       False              Sachsen    True   \n",
       "18     396.00           1987.0       False              Sachsen    True   \n",
       "19     340.00           1920.0       False       Sachsen_Anhalt   False   \n",
       "\n",
       "    baseRent  ...  petsAllowed                       street   lift  \\\n",
       "0     595.00  ...           no   Sch&uuml;ruferstra&szlig;e  False   \n",
       "1     965.00  ...           no                    Turnerweg   True   \n",
       "2     765.00  ...           no  Hermann-Henrich-Meier-Allee  False   \n",
       "3     580.00  ...           no               no_information  False   \n",
       "4     219.00  ...           no           Hofer Stra&szlig;e  False   \n",
       "5     950.00  ...           no               no_information  False   \n",
       "6     972.60  ...   negotiable                   Am Dimberg   True   \n",
       "7     220.00  ...           no                    Birkenhof  False   \n",
       "8    1343.48  ...   negotiable       Robert-Gernhardt-Platz   True   \n",
       "9    1150.00  ...   negotiable               no_information  False   \n",
       "10    620.00  ...   negotiable            B&ouml;melburgweg  False   \n",
       "11    300.30  ...          yes   Helene-Weigel-Stra&szlig;e   True   \n",
       "12   2400.00  ...           no        Burgunderstra&szlig;e   True   \n",
       "13    315.18  ...   negotiable       Willbeckerstra&szlig;e   True   \n",
       "14   2780.00  ...           no            Am Oberwiesenfeld   True   \n",
       "15    935.00  ...           no                    Schulstr.  False   \n",
       "16    408.00  ...           no  Gustav-Klimpel-Stra&szlig;e  False   \n",
       "17    406.00  ...   negotiable                    Birkenweg  False   \n",
       "18    266.00  ...   negotiable                  Klixer Str.  False   \n",
       "19    260.00  ...          yes    Regensburger Stra&szlig;e  False   \n",
       "\n",
       "       typeOfFlat noRooms floor  numberOfFloors garden  \\\n",
       "0    ground_floor     4.0   1.0        3.000000   True   \n",
       "1       apartment     3.0   3.0        4.000000  False   \n",
       "2       apartment     3.0   1.0        3.670219  False   \n",
       "3     roof_storey     2.0   2.0        2.000000  False   \n",
       "4       apartment     2.0   3.0        3.670219  False   \n",
       "5       apartment     4.0   4.0        4.000000  False   \n",
       "6    ground_floor     3.0   0.0        4.000000  False   \n",
       "7       apartment     1.0   4.0        5.000000  False   \n",
       "8       apartment     5.0   1.0        4.000000  False   \n",
       "9    ground_floor     4.0   0.0        2.000000   True   \n",
       "10      apartment     3.0   2.0        4.000000  False   \n",
       "11      apartment     3.0   6.0        3.670219  False   \n",
       "12      apartment     3.0   1.0        3.670219  False   \n",
       "13  terraced_flat     2.0   0.0        6.000000   True   \n",
       "14      apartment     3.0   5.0        3.670219  False   \n",
       "15      apartment     1.0   3.0        2.000000  False   \n",
       "16      apartment     2.0   1.0        2.000000  False   \n",
       "17      apartment     3.0   3.0        3.670219  False   \n",
       "18      apartment     3.0   1.0        3.000000   True   \n",
       "19    roof_storey     2.0   3.0        3.000000  False   \n",
       "\n",
       "                          regio3   date  \n",
       "0                       SchÃ¼ren  43586  \n",
       "1   ÃuÃere_Neustadt_Antonstadt  43739  \n",
       "2              Neu_Schwachhausen  43862  \n",
       "3                     Denzlingen  43862  \n",
       "4                     Sonnenberg  43739  \n",
       "5                          Mitte  43739  \n",
       "6                    KirchhÃ¶rde  43586  \n",
       "7                     SchÃ¶ndorf  43344  \n",
       "8                     GÃ¶ttingen  43739  \n",
       "9                        Wittorf  43739  \n",
       "10                          Horn  43586  \n",
       "11                   Kannenstieg  43862  \n",
       "12                Schwabing_West  43586  \n",
       "13                       Erkrath  43344  \n",
       "14                 Milbertshofen  43862  \n",
       "15                      Raunheim  43739  \n",
       "16                       Freital  43586  \n",
       "17                        LÃ¶bau  43586  \n",
       "18                       Radibor  43739  \n",
       "19             Radewell_Osendorf  43586  \n",
       "\n",
       "[20 rows x 24 columns]"
      ]
     },
     "execution_count": 7,
     "metadata": {},
     "output_type": "execute_result"
    }
   ],
   "source": [
    "df.head(20)"
   ]
  },
  {
   "cell_type": "code",
   "execution_count": 8,
   "metadata": {
    "scrolled": true
   },
   "outputs": [
    {
     "data": {
      "text/plain": [
       "(144591, 24)"
      ]
     },
     "execution_count": 8,
     "metadata": {},
     "output_type": "execute_result"
    }
   ],
   "source": [
    "df.shape"
   ]
  },
  {
   "cell_type": "markdown",
   "metadata": {},
   "source": [
    "##### Missing values"
   ]
  },
  {
   "cell_type": "code",
   "execution_count": 9,
   "metadata": {},
   "outputs": [
    {
     "data": {
      "text/plain": [
       "serviceCharge      0\n",
       "heatingType        0\n",
       "newlyConst         0\n",
       "balcony            0\n",
       "totalRent          0\n",
       "yearConstructed    0\n",
       "hasKitchen         0\n",
       "geo_bln            0\n",
       "cellar             0\n",
       "baseRent           0\n",
       "livingSpace        0\n",
       "geo_krs            0\n",
       "condition          0\n",
       "interiorQual       0\n",
       "petsAllowed        0\n",
       "street             0\n",
       "lift               0\n",
       "typeOfFlat         0\n",
       "noRooms            0\n",
       "floor              0\n",
       "numberOfFloors     0\n",
       "garden             0\n",
       "regio3             0\n",
       "date               0\n",
       "dtype: int64"
      ]
     },
     "execution_count": 9,
     "metadata": {},
     "output_type": "execute_result"
    }
   ],
   "source": [
    "# Check for missing values\n",
    "\n",
    "df.isnull().sum()\n",
    "\n",
    "# No missing values to handle"
   ]
  },
  {
   "cell_type": "markdown",
   "metadata": {},
   "source": [
    "##### Duplicates check"
   ]
  },
  {
   "cell_type": "code",
   "execution_count": 10,
   "metadata": {},
   "outputs": [],
   "source": [
    "dups = df.duplicated()"
   ]
  },
  {
   "cell_type": "code",
   "execution_count": 11,
   "metadata": {},
   "outputs": [
    {
     "data": {
      "text/plain": [
       "(144591,)"
      ]
     },
     "execution_count": 11,
     "metadata": {},
     "output_type": "execute_result"
    }
   ],
   "source": [
    "dups.shape # No dups"
   ]
  },
  {
   "cell_type": "markdown",
   "metadata": {},
   "source": [
    "##### Extreme values checks"
   ]
  },
  {
   "cell_type": "code",
   "execution_count": 12,
   "metadata": {
    "scrolled": true
   },
   "outputs": [
    {
     "name": "stderr",
     "output_type": "stream",
     "text": [
      "C:\\Users\\fardi\\anaconda3\\lib\\site-packages\\seaborn\\distributions.py:2619: FutureWarning: `distplot` is a deprecated function and will be removed in a future version. Please adapt your code to use either `displot` (a figure-level function with similar flexibility) or `histplot` (an axes-level function for histograms).\n",
      "  warnings.warn(msg, FutureWarning)\n"
     ]
    },
    {
     "data": {
      "text/plain": [
       "<AxesSubplot:xlabel='totalRent', ylabel='Density'>"
      ]
     },
     "execution_count": 12,
     "metadata": {},
     "output_type": "execute_result"
    },
    {
     "data": {
      "image/png": "[encoded data removed]",
      "text/plain": [
       "<Figure size 432x288 with 1 Axes>"
      ]
     },
     "metadata": {
      "needs_background": "light"
     },
     "output_type": "display_data"
    }
   ],
   "source": [
    "sns.distplot(df['totalRent'], bins=25) # Shows extreme values\n",
    "\n",
    "# Some of the outliers in the high values may need to be removed, but let's try without doing so first."
   ]
  },
  {
   "cell_type": "code",
   "execution_count": 13,
   "metadata": {},
   "outputs": [
    {
     "data": {
      "text/plain": [
       "813.018283364806"
      ]
     },
     "execution_count": 13,
     "metadata": {},
     "output_type": "execute_result"
    }
   ],
   "source": [
    "df['totalRent'].mean() # Check the mean"
   ]
  },
  {
   "cell_type": "code",
   "execution_count": 14,
   "metadata": {},
   "outputs": [
    {
     "data": {
      "text/plain": [
       "641.87"
      ]
     },
     "execution_count": 14,
     "metadata": {},
     "output_type": "execute_result"
    }
   ],
   "source": [
    "df['totalRent'].median() # Check the median"
   ]
  },
  {
   "cell_type": "code",
   "execution_count": 15,
   "metadata": {},
   "outputs": [
    {
     "data": {
      "text/plain": [
       "9000.0"
      ]
     },
     "execution_count": 15,
     "metadata": {},
     "output_type": "execute_result"
    }
   ],
   "source": [
    "df['totalRent'].max() # Check the max"
   ]
  },
  {
   "cell_type": "markdown",
   "metadata": {},
   "source": [
    "### 3. Data prep for regression analysis "
   ]
  },
  {
   "cell_type": "code",
   "execution_count": 16,
   "metadata": {
    "scrolled": false
   },
   "outputs": [
    {
     "data": {
      "image/png": "[encoded data removed]",
      "text/plain": [
       "<Figure size 432x288 with 1 Axes>"
      ]
     },
     "metadata": {
      "needs_background": "light"
     },
     "output_type": "display_data"
    }
   ],
   "source": [
    "# Create a scatterplot using matplotlib for another look at how the chosen variables plot against each other.\n",
    "\n",
    "df.plot(x = 'livingSpace', y='totalRent',style='o') # The style option creates a scatterplot; without it, we only have lines.\n",
    "plt.title('livingSpace vs totalRent')  \n",
    "plt.xlabel('livingSpace')  \n",
    "plt.ylabel('totalRent')  \n",
    "plt.show()"
   ]
  },
  {
   "cell_type": "markdown",
   "metadata": {},
   "source": [
    "### Hypothesis\n",
    "##### The larger the livingSpace, the higher the totalRent"
   ]
  },
  {
   "cell_type": "code",
   "execution_count": 17,
   "metadata": {},
   "outputs": [],
   "source": [
    "# Reshape the variables into NumPy arrays and put them into separate objects.\n",
    "\n",
    "X = df['livingSpace'].values.reshape(-1,1)\n",
    "y = df['totalRent'].values.reshape(-1,1)"
   ]
  },
  {
   "cell_type": "code",
   "execution_count": 18,
   "metadata": {},
   "outputs": [
    {
     "data": {
      "text/plain": [
       "array([[ 86.  ],\n",
       "       [ 83.8 ],\n",
       "       [ 84.97],\n",
       "       ...,\n",
       "       [ 55.  ],\n",
       "       [115.  ],\n",
       "       [ 95.  ]])"
      ]
     },
     "execution_count": 18,
     "metadata": {},
     "output_type": "execute_result"
    }
   ],
   "source": [
    "X"
   ]
  },
  {
   "cell_type": "code",
   "execution_count": 19,
   "metadata": {},
   "outputs": [
    {
     "data": {
      "text/plain": [
       "array([[ 840.],\n",
       "       [1300.],\n",
       "       [ 903.],\n",
       "       ...,\n",
       "       [ 368.],\n",
       "       [1150.],\n",
       "       [ 930.]])"
      ]
     },
     "execution_count": 19,
     "metadata": {},
     "output_type": "execute_result"
    }
   ],
   "source": [
    "y"
   ]
  },
  {
   "cell_type": "code",
   "execution_count": 20,
   "metadata": {
    "scrolled": true
   },
   "outputs": [],
   "source": [
    "# Split data into a training set and a test set.\n",
    "\n",
    "X_train, X_test, y_train, y_test = train_test_split(X, y, test_size=0.3, random_state=0)"
   ]
  },
  {
   "cell_type": "markdown",
   "metadata": {},
   "source": [
    "### 4. Regression analysis"
   ]
  },
  {
   "cell_type": "code",
   "execution_count": 21,
   "metadata": {},
   "outputs": [],
   "source": [
    "# Create a regression object.\n",
    "\n",
    "regression = LinearRegression()  # This is the regression object, which will be fit onto the training set."
   ]
  },
  {
   "cell_type": "code",
   "execution_count": 22,
   "metadata": {},
   "outputs": [
    {
     "data": {
      "text/plain": [
       "LinearRegression()"
      ]
     },
     "execution_count": 22,
     "metadata": {},
     "output_type": "execute_result"
    }
   ],
   "source": [
    "# Fit the regression object onto the training set.\n",
    "\n",
    "regression.fit(X_train, y_train)"
   ]
  },
  {
   "cell_type": "code",
   "execution_count": 23,
   "metadata": {},
   "outputs": [],
   "source": [
    "# Predict the values of y using X.\n",
    "\n",
    "y_predicted = regression.predict(X_test)"
   ]
  },
  {
   "cell_type": "code",
   "execution_count": 24,
   "metadata": {},
   "outputs": [
    {
     "data": {
      "image/png": "[encoded data removed]",
      "text/plain": [
       "<Figure size 432x288 with 1 Axes>"
      ]
     },
     "metadata": {
      "needs_background": "light"
     },
     "output_type": "display_data"
    }
   ],
   "source": [
    "# Create a plot that shows the regression line from the model on the test set.\n",
    "\n",
    "plot_test = plt\n",
    "plot_test.scatter(X_test, y_test, color='gray', s = 15)\n",
    "plot_test.plot(X_test, y_predicted, color='red', linewidth =3)\n",
    "plot_test.title('livingSpace vs totalRent (Test set)')\n",
    "plot_test.xlabel('livingSpace')\n",
    "plot_test.ylabel('totalRent')\n",
    "plot_test.show()"
   ]
  },
  {
   "cell_type": "code",
   "execution_count": 25,
   "metadata": {},
   "outputs": [],
   "source": [
    "# Create objects that contain the model summary statistics.\n",
    "\n",
    "rmse = mean_squared_error(y_test, y_predicted) # This is the mean squared error\n",
    "r2 = r2_score(y_test, y_predicted) # This is the R2 score. "
   ]
  },
  {
   "cell_type": "code",
   "execution_count": 26,
   "metadata": {},
   "outputs": [
    {
     "name": "stdout",
     "output_type": "stream",
     "text": [
      "Slope: [[13.94271835]]\n",
      "Mean squared error:  126285.97969012643\n",
      "R2 score:  0.5772612432992944\n"
     ]
    }
   ],
   "source": [
    "# Print the model summary statistics. This is where you evaluate the performance of the model.\n",
    "\n",
    "print('Slope:' ,regression.coef_)\n",
    "print('Mean squared error: ', rmse)\n",
    "print('R2 score: ', r2)"
   ]
  },
  {
   "cell_type": "markdown",
   "metadata": {},
   "source": [
    "- The slope coefficient is 13.94\n",
    "- MSE is quite high at 126286\n",
    "- R2 of 0.57, means that livingSpace does have a slight ability to predict totalRent, but the model is not that accurate"
   ]
  },
  {
   "cell_type": "code",
   "execution_count": 27,
   "metadata": {},
   "outputs": [
    {
     "data": {
      "text/plain": [
       "array([[ 321.24135039],\n",
       "       [ 572.21028072],\n",
       "       [1088.09085974],\n",
       "       ...,\n",
       "       [ 781.351056  ],\n",
       "       [ 781.351056  ],\n",
       "       [ 841.16531773]])"
      ]
     },
     "execution_count": 27,
     "metadata": {},
     "output_type": "execute_result"
    }
   ],
   "source": [
    "y_predicted"
   ]
  },
  {
   "cell_type": "code",
   "execution_count": 28,
   "metadata": {},
   "outputs": [
    {
     "data": {
      "text/html": [
       "<div>\n",
       "<style scoped>\n",
       "    .dataframe tbody tr th:only-of-type {\n",
       "        vertical-align: middle;\n",
       "    }\n",
       "\n",
       "    .dataframe tbody tr th {\n",
       "        vertical-align: top;\n",
       "    }\n",
       "\n",
       "    .dataframe thead th {\n",
       "        text-align: right;\n",
       "    }\n",
       "</style>\n",
       "<table border=\"1\" class=\"dataframe\">\n",
       "  <thead>\n",
       "    <tr style=\"text-align: right;\">\n",
       "      <th></th>\n",
       "      <th>Actual</th>\n",
       "      <th>Predicted</th>\n",
       "    </tr>\n",
       "  </thead>\n",
       "  <tbody>\n",
       "    <tr>\n",
       "      <th>0</th>\n",
       "      <td>550.00</td>\n",
       "      <td>321.241350</td>\n",
       "    </tr>\n",
       "    <tr>\n",
       "      <th>1</th>\n",
       "      <td>1050.00</td>\n",
       "      <td>572.210281</td>\n",
       "    </tr>\n",
       "    <tr>\n",
       "      <th>2</th>\n",
       "      <td>1030.00</td>\n",
       "      <td>1088.090860</td>\n",
       "    </tr>\n",
       "    <tr>\n",
       "      <th>3</th>\n",
       "      <td>2950.00</td>\n",
       "      <td>4685.312195</td>\n",
       "    </tr>\n",
       "    <tr>\n",
       "      <th>4</th>\n",
       "      <td>310.00</td>\n",
       "      <td>321.241350</td>\n",
       "    </tr>\n",
       "    <tr>\n",
       "      <th>5</th>\n",
       "      <td>528.00</td>\n",
       "      <td>689.468542</td>\n",
       "    </tr>\n",
       "    <tr>\n",
       "      <th>6</th>\n",
       "      <td>373.53</td>\n",
       "      <td>649.452940</td>\n",
       "    </tr>\n",
       "    <tr>\n",
       "      <th>7</th>\n",
       "      <td>240.00</td>\n",
       "      <td>474.611252</td>\n",
       "    </tr>\n",
       "    <tr>\n",
       "      <th>8</th>\n",
       "      <td>467.00</td>\n",
       "      <td>686.261717</td>\n",
       "    </tr>\n",
       "    <tr>\n",
       "      <th>9</th>\n",
       "      <td>553.00</td>\n",
       "      <td>646.246115</td>\n",
       "    </tr>\n",
       "    <tr>\n",
       "      <th>10</th>\n",
       "      <td>667.00</td>\n",
       "      <td>739.522901</td>\n",
       "    </tr>\n",
       "    <tr>\n",
       "      <th>11</th>\n",
       "      <td>1030.00</td>\n",
       "      <td>721.397367</td>\n",
       "    </tr>\n",
       "    <tr>\n",
       "      <th>12</th>\n",
       "      <td>1200.00</td>\n",
       "      <td>1827.054932</td>\n",
       "    </tr>\n",
       "    <tr>\n",
       "      <th>13</th>\n",
       "      <td>335.00</td>\n",
       "      <td>460.668534</td>\n",
       "    </tr>\n",
       "    <tr>\n",
       "      <th>14</th>\n",
       "      <td>690.00</td>\n",
       "      <td>641.923872</td>\n",
       "    </tr>\n",
       "    <tr>\n",
       "      <th>15</th>\n",
       "      <td>890.00</td>\n",
       "      <td>1129.919015</td>\n",
       "    </tr>\n",
       "    <tr>\n",
       "      <th>16</th>\n",
       "      <td>930.00</td>\n",
       "      <td>1199.632607</td>\n",
       "    </tr>\n",
       "    <tr>\n",
       "      <th>17</th>\n",
       "      <td>1530.00</td>\n",
       "      <td>1124.481355</td>\n",
       "    </tr>\n",
       "    <tr>\n",
       "      <th>18</th>\n",
       "      <td>530.00</td>\n",
       "      <td>425.114602</td>\n",
       "    </tr>\n",
       "    <tr>\n",
       "      <th>19</th>\n",
       "      <td>395.00</td>\n",
       "      <td>279.413195</td>\n",
       "    </tr>\n",
       "    <tr>\n",
       "      <th>20</th>\n",
       "      <td>1020.00</td>\n",
       "      <td>1615.125613</td>\n",
       "    </tr>\n",
       "    <tr>\n",
       "      <th>21</th>\n",
       "      <td>1240.00</td>\n",
       "      <td>920.778240</td>\n",
       "    </tr>\n",
       "    <tr>\n",
       "      <th>22</th>\n",
       "      <td>427.50</td>\n",
       "      <td>851.064648</td>\n",
       "    </tr>\n",
       "    <tr>\n",
       "      <th>23</th>\n",
       "      <td>625.00</td>\n",
       "      <td>1088.090860</td>\n",
       "    </tr>\n",
       "    <tr>\n",
       "      <th>24</th>\n",
       "      <td>479.00</td>\n",
       "      <td>669.809309</td>\n",
       "    </tr>\n",
       "    <tr>\n",
       "      <th>25</th>\n",
       "      <td>830.00</td>\n",
       "      <td>851.064648</td>\n",
       "    </tr>\n",
       "    <tr>\n",
       "      <th>26</th>\n",
       "      <td>1125.00</td>\n",
       "      <td>1366.945227</td>\n",
       "    </tr>\n",
       "    <tr>\n",
       "      <th>27</th>\n",
       "      <td>960.00</td>\n",
       "      <td>683.752028</td>\n",
       "    </tr>\n",
       "    <tr>\n",
       "      <th>28</th>\n",
       "      <td>1163.00</td>\n",
       "      <td>1478.486974</td>\n",
       "    </tr>\n",
       "    <tr>\n",
       "      <th>29</th>\n",
       "      <td>380.00</td>\n",
       "      <td>311.760302</td>\n",
       "    </tr>\n",
       "  </tbody>\n",
       "</table>\n",
       "</div>"
      ],
      "text/plain": [
       "     Actual    Predicted\n",
       "0    550.00   321.241350\n",
       "1   1050.00   572.210281\n",
       "2   1030.00  1088.090860\n",
       "3   2950.00  4685.312195\n",
       "4    310.00   321.241350\n",
       "5    528.00   689.468542\n",
       "6    373.53   649.452940\n",
       "7    240.00   474.611252\n",
       "8    467.00   686.261717\n",
       "9    553.00   646.246115\n",
       "10   667.00   739.522901\n",
       "11  1030.00   721.397367\n",
       "12  1200.00  1827.054932\n",
       "13   335.00   460.668534\n",
       "14   690.00   641.923872\n",
       "15   890.00  1129.919015\n",
       "16   930.00  1199.632607\n",
       "17  1530.00  1124.481355\n",
       "18   530.00   425.114602\n",
       "19   395.00   279.413195\n",
       "20  1020.00  1615.125613\n",
       "21  1240.00   920.778240\n",
       "22   427.50   851.064648\n",
       "23   625.00  1088.090860\n",
       "24   479.00   669.809309\n",
       "25   830.00   851.064648\n",
       "26  1125.00  1366.945227\n",
       "27   960.00   683.752028\n",
       "28  1163.00  1478.486974\n",
       "29   380.00   311.760302"
      ]
     },
     "execution_count": 28,
     "metadata": {},
     "output_type": "execute_result"
    }
   ],
   "source": [
    "# Create a dataframe comparing the actual and predicted values of y.\n",
    "\n",
    "data = pd.DataFrame({'Actual': y_test.flatten(), 'Predicted': y_predicted.flatten()})\n",
    "data.head(30)"
   ]
  },
  {
   "cell_type": "markdown",
   "metadata": {},
   "source": [
    "###### -  Here we can see that their is a quite large difference between the actual values and predicted values"
   ]
  },
  {
   "cell_type": "markdown",
   "metadata": {},
   "source": [
    "##### Compare how the regression fits the training set"
   ]
  },
  {
   "cell_type": "code",
   "execution_count": 29,
   "metadata": {},
   "outputs": [],
   "source": [
    "# Predict.\n",
    "\n",
    "y_predicted_train = regression.predict(X_train) # This is predicting X_train!"
   ]
  },
  {
   "cell_type": "code",
   "execution_count": 30,
   "metadata": {},
   "outputs": [],
   "source": [
    "rmse = mean_squared_error(y_train, y_predicted_train)\n",
    "r2 = r2_score(y_train, y_predicted_train)"
   ]
  },
  {
   "cell_type": "code",
   "execution_count": 31,
   "metadata": {},
   "outputs": [
    {
     "name": "stdout",
     "output_type": "stream",
     "text": [
      "Slope: [[13.94271835]]\n",
      "Mean squared error:  125896.81080477133\n",
      "R2 score:  0.5754157144198988\n"
     ]
    }
   ],
   "source": [
    "print('Slope:' ,regression.coef_)\n",
    "print('Mean squared error: ', rmse)\n",
    "print('R2 score: ', r2)"
   ]
  },
  {
   "cell_type": "code",
   "execution_count": 32,
   "metadata": {
    "scrolled": true
   },
   "outputs": [
    {
     "data": {
      "image/png": "[encoded data removed]",
      "text/plain": [
       "<Figure size 432x288 with 1 Axes>"
      ]
     },
     "metadata": {
      "needs_background": "light"
     },
     "output_type": "display_data"
    }
   ],
   "source": [
    "# Visualizing the training set results.\n",
    "\n",
    "plot_test = plt\n",
    "plot_test.scatter(X_train, y_train, color='green', s = 15)\n",
    "plot_test.plot(X_train, y_predicted_train, color='red', linewidth =3)\n",
    "plot_test.title('livingSpace vs totalRent (Test set)')\n",
    "plot_test.xlabel('livingSpace')\n",
    "plot_test.ylabel('totalRent')\n",
    "plot_test.show()"
   ]
  },
  {
   "cell_type": "markdown",
   "metadata": {},
   "source": [
    "- The RMSE and R2 scores are almost identical, this prove that our model is not overfitted\n",
    "- it just does not have a strong relationship, using livingSpace alone, we can't predict totalRent"
   ]
  },
  {
   "cell_type": "markdown",
   "metadata": {},
   "source": [
    "### Bonus: performance improvement after removing outliers"
   ]
  },
  {
   "cell_type": "code",
   "execution_count": 33,
   "metadata": {},
   "outputs": [],
   "source": [
    "# Clean the extreme values from the \"totalRent\" variable observed during the consistency checks.\n",
    "\n",
    "df_test = df[df['totalRent'] <=4000] "
   ]
  },
  {
   "cell_type": "code",
   "execution_count": 35,
   "metadata": {},
   "outputs": [
    {
     "data": {
      "image/png": "[encoded data removed]",
      "text/plain": [
       "<Figure size 432x288 with 1 Axes>"
      ]
     },
     "metadata": {
      "needs_background": "light"
     },
     "output_type": "display_data"
    }
   ],
   "source": [
    "# Create a scatterplot using matplotlib for another look at how the chosen variables plot against each other.\n",
    "\n",
    "df_test.plot(x = 'livingSpace', y='totalRent',style='o') \n",
    "plt.title('livingSpace vs totalRent')  \n",
    "plt.xlabel('livingSpace')  \n",
    "plt.ylabel('totalRent')  \n",
    "plt.show()"
   ]
  },
  {
   "cell_type": "code",
   "execution_count": 37,
   "metadata": {},
   "outputs": [],
   "source": [
    "# Reshape again.\n",
    "\n",
    "X_2 = df_test['livingSpace'].values.reshape(-1,1)\n",
    "y_2 = df_test['totalRent'].values.reshape(-1,1)"
   ]
  },
  {
   "cell_type": "code",
   "execution_count": 38,
   "metadata": {
    "scrolled": true
   },
   "outputs": [],
   "source": [
    "X_train_2, X_test_2, y_train_2, y_test_2 = train_test_split(X_2, y_2, test_size=0.3, random_state=0)"
   ]
  },
  {
   "cell_type": "code",
   "execution_count": 39,
   "metadata": {},
   "outputs": [
    {
     "data": {
      "text/plain": [
       "LinearRegression()"
      ]
     },
     "execution_count": 39,
     "metadata": {},
     "output_type": "execute_result"
    }
   ],
   "source": [
    "# Run and fit the regression.\n",
    "\n",
    "regression = LinearRegression()  \n",
    "regression.fit(X_train_2, y_train_2)"
   ]
  },
  {
   "cell_type": "code",
   "execution_count": 40,
   "metadata": {},
   "outputs": [],
   "source": [
    "# Predict.\n",
    "\n",
    "y_predicted_2 = regression.predict(X_test_2)"
   ]
  },
  {
   "cell_type": "code",
   "execution_count": 41,
   "metadata": {},
   "outputs": [],
   "source": [
    "rmse = mean_squared_error(y_test_2, y_predicted_2)\n",
    "r2 = r2_score(y_test_2, y_predicted_2)"
   ]
  },
  {
   "cell_type": "code",
   "execution_count": 42,
   "metadata": {},
   "outputs": [
    {
     "name": "stdout",
     "output_type": "stream",
     "text": [
      "Slope: [[12.92005491]]\n",
      "Mean squared error:  106384.18881671898\n",
      "R2 score:  0.5663297918468152\n"
     ]
    }
   ],
   "source": [
    "print('Slope:' ,regression.coef_)\n",
    "print('Mean squared error: ', rmse)\n",
    "print('R2 score: ', r2)"
   ]
  },
  {
   "cell_type": "markdown",
   "metadata": {},
   "source": [
    "##### -  Removing the outlier, does not improvr the model, \n",
    "##### - it had the adverse effect, the R2 reduce slightly"
   ]
  },
  {
   "cell_type": "code",
   "execution_count": 43,
   "metadata": {
    "scrolled": true
   },
   "outputs": [
    {
     "data": {
      "image/png": "[encoded data removed]",
      "text/plain": [
       "<Figure size 432x288 with 1 Axes>"
      ]
     },
     "metadata": {
      "needs_background": "light"
     },
     "output_type": "display_data"
    }
   ],
   "source": [
    "# Visualizing the test set results.\n",
    "plot_test = plt\n",
    "plot_test.scatter(X_test, y_test, color='gray', s = 15)\n",
    "plot_test.plot(X_train, regression.predict(X_train), color='red', linewidth =3)\n",
    "plot_test.title('livingSpace vs totalRent (Test set)')\n",
    "plot_test.xlabel('livingSpace')\n",
    "plot_test.ylabel('totalRent')\n",
    "plot_test.show()"
   ]
  },
  {
   "cell_type": "markdown",
   "metadata": {},
   "source": [
    "##### - Removing the outliers does not improve the model, it shows that these extreme values are important and are not outliers\n",
    "##### - With an R2 of 0.57, we can say that livingSpace does have an influence on totalRent, \n",
    "##### - But the relationship is not strong enough to be a able to predict totalRent accurately, maybe with the addition of other variables"
   ]
  },
  {
   "cell_type": "markdown",
   "metadata": {},
   "source": [
    "#### Data bias\n",
    "- These data were scraped from a website as such, the totalRent normally are a range of numbers e.g rent from 800 to 1000 and there are also additional charges if you take parking services or heating cost and internet etc Here there are no information how the totalRent were calculated. And some of the advert on the Immoscout24 website, the totalRent are negotiable, while scraping only the price advertised were taken not the real price. These biases might have distort the ability for the model accuracy. "
   ]
  },
  {
   "cell_type": "markdown",
   "metadata": {},
   "source": [
    "Lastly, I would like to add that here a multi regression model will work better as there are many factors that influence the totalRent. The quality of the apartment, if it has lift, garden, kitchen etc"
   ]
  },
  {
   "cell_type": "markdown",
   "metadata": {},
   "source": [
    "## Multiple Regression trial"
   ]
  },
  {
   "cell_type": "code",
   "execution_count": null,
   "metadata": {},
   "outputs": [],
   "source": [
    "#converting categorical values\n",
    "columns = []\n",
    "for cols in df.columns:\n",
    "    if df[cols].dtype == 'object':\n",
    "        columns.append(cols)\n",
    "        \n",
    "columns"
   ]
  },
  {
   "cell_type": "code",
   "execution_count": 47,
   "metadata": {},
   "outputs": [],
   "source": [
    "df_sub = ['heatingType',\n",
    " 'geo_bln',\n",
    " 'condition',\n",
    " 'interiorQual',\n",
    " 'petsAllowed',\n",
    " 'typeOfFlat']"
   ]
  },
  {
   "cell_type": "code",
   "execution_count": 48,
   "metadata": {},
   "outputs": [
    {
     "data": {
      "text/html": [
       "<div>\n",
       "<style scoped>\n",
       "    .dataframe tbody tr th:only-of-type {\n",
       "        vertical-align: middle;\n",
       "    }\n",
       "\n",
       "    .dataframe tbody tr th {\n",
       "        vertical-align: top;\n",
       "    }\n",
       "\n",
       "    .dataframe thead th {\n",
       "        text-align: right;\n",
       "    }\n",
       "</style>\n",
       "<table border=\"1\" class=\"dataframe\">\n",
       "  <thead>\n",
       "    <tr style=\"text-align: right;\">\n",
       "      <th></th>\n",
       "      <th>heatingType_central_heating</th>\n",
       "      <th>heatingType_combined_heat_and_power_plant</th>\n",
       "      <th>heatingType_district_heating</th>\n",
       "      <th>heatingType_electric_heating</th>\n",
       "      <th>heatingType_floor_heating</th>\n",
       "      <th>heatingType_gas_heating</th>\n",
       "      <th>heatingType_heat_pump</th>\n",
       "      <th>heatingType_night_storage_heater</th>\n",
       "      <th>heatingType_oil_heating</th>\n",
       "      <th>heatingType_self_contained_central_heating</th>\n",
       "      <th>...</th>\n",
       "      <th>typeOfFlat_apartment</th>\n",
       "      <th>typeOfFlat_ground_floor</th>\n",
       "      <th>typeOfFlat_half_basement</th>\n",
       "      <th>typeOfFlat_loft</th>\n",
       "      <th>typeOfFlat_maisonette</th>\n",
       "      <th>typeOfFlat_other</th>\n",
       "      <th>typeOfFlat_penthouse</th>\n",
       "      <th>typeOfFlat_raised_ground_floor</th>\n",
       "      <th>typeOfFlat_roof_storey</th>\n",
       "      <th>typeOfFlat_terraced_flat</th>\n",
       "    </tr>\n",
       "  </thead>\n",
       "  <tbody>\n",
       "    <tr>\n",
       "      <th>0</th>\n",
       "      <td>1</td>\n",
       "      <td>0</td>\n",
       "      <td>0</td>\n",
       "      <td>0</td>\n",
       "      <td>0</td>\n",
       "      <td>0</td>\n",
       "      <td>0</td>\n",
       "      <td>0</td>\n",
       "      <td>0</td>\n",
       "      <td>0</td>\n",
       "      <td>...</td>\n",
       "      <td>0</td>\n",
       "      <td>1</td>\n",
       "      <td>0</td>\n",
       "      <td>0</td>\n",
       "      <td>0</td>\n",
       "      <td>0</td>\n",
       "      <td>0</td>\n",
       "      <td>0</td>\n",
       "      <td>0</td>\n",
       "      <td>0</td>\n",
       "    </tr>\n",
       "    <tr>\n",
       "      <th>1</th>\n",
       "      <td>0</td>\n",
       "      <td>0</td>\n",
       "      <td>0</td>\n",
       "      <td>0</td>\n",
       "      <td>1</td>\n",
       "      <td>0</td>\n",
       "      <td>0</td>\n",
       "      <td>0</td>\n",
       "      <td>0</td>\n",
       "      <td>0</td>\n",
       "      <td>...</td>\n",
       "      <td>1</td>\n",
       "      <td>0</td>\n",
       "      <td>0</td>\n",
       "      <td>0</td>\n",
       "      <td>0</td>\n",
       "      <td>0</td>\n",
       "      <td>0</td>\n",
       "      <td>0</td>\n",
       "      <td>0</td>\n",
       "      <td>0</td>\n",
       "    </tr>\n",
       "    <tr>\n",
       "      <th>2</th>\n",
       "      <td>0</td>\n",
       "      <td>0</td>\n",
       "      <td>0</td>\n",
       "      <td>0</td>\n",
       "      <td>0</td>\n",
       "      <td>0</td>\n",
       "      <td>0</td>\n",
       "      <td>0</td>\n",
       "      <td>0</td>\n",
       "      <td>1</td>\n",
       "      <td>...</td>\n",
       "      <td>1</td>\n",
       "      <td>0</td>\n",
       "      <td>0</td>\n",
       "      <td>0</td>\n",
       "      <td>0</td>\n",
       "      <td>0</td>\n",
       "      <td>0</td>\n",
       "      <td>0</td>\n",
       "      <td>0</td>\n",
       "      <td>0</td>\n",
       "    </tr>\n",
       "    <tr>\n",
       "      <th>3</th>\n",
       "      <td>0</td>\n",
       "      <td>0</td>\n",
       "      <td>0</td>\n",
       "      <td>0</td>\n",
       "      <td>0</td>\n",
       "      <td>0</td>\n",
       "      <td>0</td>\n",
       "      <td>0</td>\n",
       "      <td>1</td>\n",
       "      <td>0</td>\n",
       "      <td>...</td>\n",
       "      <td>0</td>\n",
       "      <td>0</td>\n",
       "      <td>0</td>\n",
       "      <td>0</td>\n",
       "      <td>0</td>\n",
       "      <td>0</td>\n",
       "      <td>0</td>\n",
       "      <td>0</td>\n",
       "      <td>1</td>\n",
       "      <td>0</td>\n",
       "    </tr>\n",
       "    <tr>\n",
       "      <th>4</th>\n",
       "      <td>1</td>\n",
       "      <td>0</td>\n",
       "      <td>0</td>\n",
       "      <td>0</td>\n",
       "      <td>0</td>\n",
       "      <td>0</td>\n",
       "      <td>0</td>\n",
       "      <td>0</td>\n",
       "      <td>0</td>\n",
       "      <td>0</td>\n",
       "      <td>...</td>\n",
       "      <td>1</td>\n",
       "      <td>0</td>\n",
       "      <td>0</td>\n",
       "      <td>0</td>\n",
       "      <td>0</td>\n",
       "      <td>0</td>\n",
       "      <td>0</td>\n",
       "      <td>0</td>\n",
       "      <td>0</td>\n",
       "      <td>0</td>\n",
       "    </tr>\n",
       "  </tbody>\n",
       "</table>\n",
       "<p>5 rows × 58 columns</p>\n",
       "</div>"
      ],
      "text/plain": [
       "   heatingType_central_heating  heatingType_combined_heat_and_power_plant  \\\n",
       "0                            1                                          0   \n",
       "1                            0                                          0   \n",
       "2                            0                                          0   \n",
       "3                            0                                          0   \n",
       "4                            1                                          0   \n",
       "\n",
       "   heatingType_district_heating  heatingType_electric_heating  \\\n",
       "0                             0                             0   \n",
       "1                             0                             0   \n",
       "2                             0                             0   \n",
       "3                             0                             0   \n",
       "4                             0                             0   \n",
       "\n",
       "   heatingType_floor_heating  heatingType_gas_heating  heatingType_heat_pump  \\\n",
       "0                          0                        0                      0   \n",
       "1                          1                        0                      0   \n",
       "2                          0                        0                      0   \n",
       "3                          0                        0                      0   \n",
       "4                          0                        0                      0   \n",
       "\n",
       "   heatingType_night_storage_heater  heatingType_oil_heating  \\\n",
       "0                                 0                        0   \n",
       "1                                 0                        0   \n",
       "2                                 0                        0   \n",
       "3                                 0                        1   \n",
       "4                                 0                        0   \n",
       "\n",
       "   heatingType_self_contained_central_heating  ...  typeOfFlat_apartment  \\\n",
       "0                                           0  ...                     0   \n",
       "1                                           0  ...                     1   \n",
       "2                                           1  ...                     1   \n",
       "3                                           0  ...                     0   \n",
       "4                                           0  ...                     1   \n",
       "\n",
       "   typeOfFlat_ground_floor  typeOfFlat_half_basement  typeOfFlat_loft  \\\n",
       "0                        1                         0                0   \n",
       "1                        0                         0                0   \n",
       "2                        0                         0                0   \n",
       "3                        0                         0                0   \n",
       "4                        0                         0                0   \n",
       "\n",
       "   typeOfFlat_maisonette  typeOfFlat_other  typeOfFlat_penthouse  \\\n",
       "0                      0                 0                     0   \n",
       "1                      0                 0                     0   \n",
       "2                      0                 0                     0   \n",
       "3                      0                 0                     0   \n",
       "4                      0                 0                     0   \n",
       "\n",
       "   typeOfFlat_raised_ground_floor  typeOfFlat_roof_storey  \\\n",
       "0                               0                       0   \n",
       "1                               0                       0   \n",
       "2                               0                       0   \n",
       "3                               0                       1   \n",
       "4                               0                       0   \n",
       "\n",
       "   typeOfFlat_terraced_flat  \n",
       "0                         0  \n",
       "1                         0  \n",
       "2                         0  \n",
       "3                         0  \n",
       "4                         0  \n",
       "\n",
       "[5 rows x 58 columns]"
      ]
     },
     "execution_count": 48,
     "metadata": {},
     "output_type": "execute_result"
    }
   ],
   "source": [
    "# converting categorical \n",
    "dummies_feature = pd.get_dummies(df[df_sub])\n",
    "dummies_feature.head()"
   ]
  },
  {
   "cell_type": "code",
   "execution_count": 49,
   "metadata": {},
   "outputs": [
    {
     "data": {
      "text/html": [
       "<div>\n",
       "<style scoped>\n",
       "    .dataframe tbody tr th:only-of-type {\n",
       "        vertical-align: middle;\n",
       "    }\n",
       "\n",
       "    .dataframe tbody tr th {\n",
       "        vertical-align: top;\n",
       "    }\n",
       "\n",
       "    .dataframe thead th {\n",
       "        text-align: right;\n",
       "    }\n",
       "</style>\n",
       "<table border=\"1\" class=\"dataframe\">\n",
       "  <thead>\n",
       "    <tr style=\"text-align: right;\">\n",
       "      <th></th>\n",
       "      <th>serviceCharge</th>\n",
       "      <th>heatingType</th>\n",
       "      <th>newlyConst</th>\n",
       "      <th>balcony</th>\n",
       "      <th>totalRent</th>\n",
       "      <th>yearConstructed</th>\n",
       "      <th>hasKitchen</th>\n",
       "      <th>geo_bln</th>\n",
       "      <th>cellar</th>\n",
       "      <th>baseRent</th>\n",
       "      <th>...</th>\n",
       "      <th>typeOfFlat_apartment</th>\n",
       "      <th>typeOfFlat_ground_floor</th>\n",
       "      <th>typeOfFlat_half_basement</th>\n",
       "      <th>typeOfFlat_loft</th>\n",
       "      <th>typeOfFlat_maisonette</th>\n",
       "      <th>typeOfFlat_other</th>\n",
       "      <th>typeOfFlat_penthouse</th>\n",
       "      <th>typeOfFlat_raised_ground_floor</th>\n",
       "      <th>typeOfFlat_roof_storey</th>\n",
       "      <th>typeOfFlat_terraced_flat</th>\n",
       "    </tr>\n",
       "  </thead>\n",
       "  <tbody>\n",
       "    <tr>\n",
       "      <th>0</th>\n",
       "      <td>245.0</td>\n",
       "      <td>central_heating</td>\n",
       "      <td>False</td>\n",
       "      <td>False</td>\n",
       "      <td>840.0</td>\n",
       "      <td>1965.0</td>\n",
       "      <td>False</td>\n",
       "      <td>Nordrhein_Westfalen</td>\n",
       "      <td>True</td>\n",
       "      <td>595.0</td>\n",
       "      <td>...</td>\n",
       "      <td>0</td>\n",
       "      <td>1</td>\n",
       "      <td>0</td>\n",
       "      <td>0</td>\n",
       "      <td>0</td>\n",
       "      <td>0</td>\n",
       "      <td>0</td>\n",
       "      <td>0</td>\n",
       "      <td>0</td>\n",
       "      <td>0</td>\n",
       "    </tr>\n",
       "    <tr>\n",
       "      <th>1</th>\n",
       "      <td>255.0</td>\n",
       "      <td>floor_heating</td>\n",
       "      <td>True</td>\n",
       "      <td>True</td>\n",
       "      <td>1300.0</td>\n",
       "      <td>2019.0</td>\n",
       "      <td>False</td>\n",
       "      <td>Sachsen</td>\n",
       "      <td>True</td>\n",
       "      <td>965.0</td>\n",
       "      <td>...</td>\n",
       "      <td>1</td>\n",
       "      <td>0</td>\n",
       "      <td>0</td>\n",
       "      <td>0</td>\n",
       "      <td>0</td>\n",
       "      <td>0</td>\n",
       "      <td>0</td>\n",
       "      <td>0</td>\n",
       "      <td>0</td>\n",
       "      <td>0</td>\n",
       "    </tr>\n",
       "    <tr>\n",
       "      <th>2</th>\n",
       "      <td>138.0</td>\n",
       "      <td>self_contained_central_heating</td>\n",
       "      <td>False</td>\n",
       "      <td>True</td>\n",
       "      <td>903.0</td>\n",
       "      <td>1950.0</td>\n",
       "      <td>False</td>\n",
       "      <td>Bremen</td>\n",
       "      <td>False</td>\n",
       "      <td>765.0</td>\n",
       "      <td>...</td>\n",
       "      <td>1</td>\n",
       "      <td>0</td>\n",
       "      <td>0</td>\n",
       "      <td>0</td>\n",
       "      <td>0</td>\n",
       "      <td>0</td>\n",
       "      <td>0</td>\n",
       "      <td>0</td>\n",
       "      <td>0</td>\n",
       "      <td>0</td>\n",
       "    </tr>\n",
       "    <tr>\n",
       "      <th>3</th>\n",
       "      <td>110.0</td>\n",
       "      <td>oil_heating</td>\n",
       "      <td>False</td>\n",
       "      <td>False</td>\n",
       "      <td>690.0</td>\n",
       "      <td>1970.0</td>\n",
       "      <td>True</td>\n",
       "      <td>Baden_WÃ¼rttemberg</td>\n",
       "      <td>True</td>\n",
       "      <td>580.0</td>\n",
       "      <td>...</td>\n",
       "      <td>0</td>\n",
       "      <td>0</td>\n",
       "      <td>0</td>\n",
       "      <td>0</td>\n",
       "      <td>0</td>\n",
       "      <td>0</td>\n",
       "      <td>0</td>\n",
       "      <td>0</td>\n",
       "      <td>1</td>\n",
       "      <td>0</td>\n",
       "    </tr>\n",
       "    <tr>\n",
       "      <th>4</th>\n",
       "      <td>88.0</td>\n",
       "      <td>central_heating</td>\n",
       "      <td>False</td>\n",
       "      <td>True</td>\n",
       "      <td>307.0</td>\n",
       "      <td>1930.0</td>\n",
       "      <td>False</td>\n",
       "      <td>Sachsen</td>\n",
       "      <td>True</td>\n",
       "      <td>219.0</td>\n",
       "      <td>...</td>\n",
       "      <td>1</td>\n",
       "      <td>0</td>\n",
       "      <td>0</td>\n",
       "      <td>0</td>\n",
       "      <td>0</td>\n",
       "      <td>0</td>\n",
       "      <td>0</td>\n",
       "      <td>0</td>\n",
       "      <td>0</td>\n",
       "      <td>0</td>\n",
       "    </tr>\n",
       "  </tbody>\n",
       "</table>\n",
       "<p>5 rows × 82 columns</p>\n",
       "</div>"
      ],
      "text/plain": [
       "   serviceCharge                     heatingType  newlyConst  balcony  \\\n",
       "0          245.0                 central_heating       False    False   \n",
       "1          255.0                   floor_heating        True     True   \n",
       "2          138.0  self_contained_central_heating       False     True   \n",
       "3          110.0                     oil_heating       False    False   \n",
       "4           88.0                 central_heating       False     True   \n",
       "\n",
       "   totalRent  yearConstructed  hasKitchen              geo_bln  cellar  \\\n",
       "0      840.0           1965.0       False  Nordrhein_Westfalen    True   \n",
       "1     1300.0           2019.0       False              Sachsen    True   \n",
       "2      903.0           1950.0       False               Bremen   False   \n",
       "3      690.0           1970.0        True   Baden_WÃ¼rttemberg    True   \n",
       "4      307.0           1930.0       False              Sachsen    True   \n",
       "\n",
       "   baseRent  ...  typeOfFlat_apartment typeOfFlat_ground_floor  \\\n",
       "0     595.0  ...                     0                       1   \n",
       "1     965.0  ...                     1                       0   \n",
       "2     765.0  ...                     1                       0   \n",
       "3     580.0  ...                     0                       0   \n",
       "4     219.0  ...                     1                       0   \n",
       "\n",
       "  typeOfFlat_half_basement typeOfFlat_loft typeOfFlat_maisonette  \\\n",
       "0                        0               0                     0   \n",
       "1                        0               0                     0   \n",
       "2                        0               0                     0   \n",
       "3                        0               0                     0   \n",
       "4                        0               0                     0   \n",
       "\n",
       "  typeOfFlat_other  typeOfFlat_penthouse typeOfFlat_raised_ground_floor  \\\n",
       "0                0                     0                              0   \n",
       "1                0                     0                              0   \n",
       "2                0                     0                              0   \n",
       "3                0                     0                              0   \n",
       "4                0                     0                              0   \n",
       "\n",
       "   typeOfFlat_roof_storey  typeOfFlat_terraced_flat  \n",
       "0                       0                         0  \n",
       "1                       0                         0  \n",
       "2                       0                         0  \n",
       "3                       1                         0  \n",
       "4                       0                         0  \n",
       "\n",
       "[5 rows x 82 columns]"
      ]
     },
     "execution_count": 49,
     "metadata": {},
     "output_type": "execute_result"
    }
   ],
   "source": [
    "data = pd.concat([df, dummies_feature], axis=1)\n",
    "data.head()"
   ]
  },
  {
   "cell_type": "code",
   "execution_count": 50,
   "metadata": {},
   "outputs": [
    {
     "data": {
      "text/plain": [
       "Index(['serviceCharge', 'heatingType', 'newlyConst', 'balcony', 'totalRent',\n",
       "       'yearConstructed', 'hasKitchen', 'geo_bln', 'cellar', 'baseRent',\n",
       "       'livingSpace', 'geo_krs', 'condition', 'interiorQual', 'petsAllowed',\n",
       "       'street', 'lift', 'typeOfFlat', 'noRooms', 'floor', 'numberOfFloors',\n",
       "       'garden', 'regio3', 'date', 'heatingType_central_heating',\n",
       "       'heatingType_combined_heat_and_power_plant',\n",
       "       'heatingType_district_heating', 'heatingType_electric_heating',\n",
       "       'heatingType_floor_heating', 'heatingType_gas_heating',\n",
       "       'heatingType_heat_pump', 'heatingType_night_storage_heater',\n",
       "       'heatingType_oil_heating', 'heatingType_self_contained_central_heating',\n",
       "       'heatingType_solar_heating', 'heatingType_stove_heating',\n",
       "       'heatingType_wood_pellet_heating', 'geo_bln_Baden_WÃ¼rttemberg',\n",
       "       'geo_bln_Bayern', 'geo_bln_Berlin', 'geo_bln_Brandenburg',\n",
       "       'geo_bln_Bremen', 'geo_bln_Hamburg', 'geo_bln_Hessen',\n",
       "       'geo_bln_Mecklenburg_Vorpommern', 'geo_bln_Niedersachsen',\n",
       "       'geo_bln_Nordrhein_Westfalen', 'geo_bln_Rheinland_Pfalz',\n",
       "       'geo_bln_Saarland', 'geo_bln_Sachsen', 'geo_bln_Sachsen_Anhalt',\n",
       "       'geo_bln_Schleswig_Holstein', 'geo_bln_ThÃ¼ringen', 'condition_Other',\n",
       "       'condition_first_time_use',\n",
       "       'condition_first_time_use_after_refurbishment',\n",
       "       'condition_fully_renovated', 'condition_mint_condition',\n",
       "       'condition_modernized', 'condition_need_of_renovation',\n",
       "       'condition_negotiable', 'condition_refurbished',\n",
       "       'condition_ripe_for_demolition', 'condition_well_kept',\n",
       "       'interiorQual_luxury', 'interiorQual_no', 'interiorQual_normal',\n",
       "       'interiorQual_simple', 'interiorQual_sophisticated',\n",
       "       'petsAllowed_negotiable', 'petsAllowed_no', 'petsAllowed_yes',\n",
       "       'typeOfFlat_apartment', 'typeOfFlat_ground_floor',\n",
       "       'typeOfFlat_half_basement', 'typeOfFlat_loft', 'typeOfFlat_maisonette',\n",
       "       'typeOfFlat_other', 'typeOfFlat_penthouse',\n",
       "       'typeOfFlat_raised_ground_floor', 'typeOfFlat_roof_storey',\n",
       "       'typeOfFlat_terraced_flat'],\n",
       "      dtype='object')"
      ]
     },
     "execution_count": 50,
     "metadata": {},
     "output_type": "execute_result"
    }
   ],
   "source": [
    "data.columns"
   ]
  },
  {
   "cell_type": "code",
   "execution_count": 51,
   "metadata": {},
   "outputs": [],
   "source": [
    "data.drop(['heatingType','condition','typeOfFlat', 'cellar', 'street', 'floor', 'petsAllowed','regio3', 'date', 'interiorQual',\n",
    "          'geo_bln', 'geo_krs'],axis=1,inplace = True)"
   ]
  },
  {
   "cell_type": "code",
   "execution_count": 52,
   "metadata": {},
   "outputs": [],
   "source": [
    "y = np.log(data['totalRent'])\n",
    "X=data.copy()\n",
    "X.drop(['totalRent'],axis=1,inplace = True)"
   ]
  },
  {
   "cell_type": "code",
   "execution_count": 53,
   "metadata": {},
   "outputs": [],
   "source": [
    "X_train, X_test, y_train, y_test = train_test_split(X, y, test_size=0.30, random_state=1)"
   ]
  },
  {
   "cell_type": "code",
   "execution_count": 54,
   "metadata": {},
   "outputs": [
    {
     "data": {
      "text/plain": [
       "LinearRegression()"
      ]
     },
     "execution_count": 54,
     "metadata": {},
     "output_type": "execute_result"
    }
   ],
   "source": [
    "# Fit the regression object onto the training set.\n",
    "\n",
    "regression.fit(X_train, y_train)"
   ]
  },
  {
   "cell_type": "code",
   "execution_count": 55,
   "metadata": {},
   "outputs": [],
   "source": [
    "# Predict the values of y using X.\n",
    "\n",
    "y_predicted = regression.predict(X_test)"
   ]
  },
  {
   "cell_type": "code",
   "execution_count": 57,
   "metadata": {},
   "outputs": [],
   "source": [
    "# Create objects that contain the model summary statistics.\n",
    "\n",
    "rmse = mean_squared_error(y_test, y_predicted) # This is the mean squared error\n",
    "r2 = r2_score(y_test, y_predicted) # This is the R2 score. "
   ]
  },
  {
   "cell_type": "code",
   "execution_count": 58,
   "metadata": {},
   "outputs": [
    {
     "name": "stdout",
     "output_type": "stream",
     "text": [
      "Slope: [ 7.93778899e-06  6.40944532e-02  5.56372251e-02 -1.75221698e-04\n",
      "  4.71017641e-02  5.12894377e-04  4.30345048e-03  7.74824303e-02\n",
      "  5.26056964e-02  9.84744774e-05 -3.63097594e-03  4.12464954e-02\n",
      "  4.80215033e-02  2.30981526e-02 -8.80062473e-02  6.01772855e-02\n",
      "  3.52255056e-02  1.88278976e-02 -1.02012772e-01  2.31885258e-02\n",
      " -1.98604425e-02  2.59156422e-02 -1.01293608e-01  3.54720620e-02\n",
      "  9.78167731e-02  1.16514261e-01  1.50532440e-01 -6.48680362e-02\n",
      "  4.90146618e-03  1.82262874e-01  1.19404182e-01 -1.35005229e-01\n",
      " -6.68724838e-03  1.99736261e-02  9.66384233e-03 -2.87725171e-02\n",
      " -1.58812738e-01 -1.70793944e-01  4.61673282e-02 -1.82297081e-01\n",
      " -8.74330317e-03  4.74964946e-02  3.48505210e-02 -6.45065958e-03\n",
      "  3.35938303e-02 -7.81124714e-03 -3.79399432e-02 -5.96462593e-02\n",
      " -1.19283391e-02  3.06606644e-02 -1.40817590e-02  2.31500781e-02\n",
      "  1.43849270e-03 -1.48765893e-02 -7.29687847e-02  6.32568032e-02\n",
      " -6.34454777e-04  8.77007568e-03 -8.13562090e-03  8.55075736e-04\n",
      " -6.05689019e-03 -6.91310417e-03 -1.99056340e-03  2.59116953e-02\n",
      " -2.18013012e-02 -5.68622752e-02  2.05758929e-02  7.31747527e-03\n",
      "  3.89639949e-02]\n",
      "Mean squared error:  0.029770901705400577\n",
      "R2 score:  0.8960546152957847\n"
     ]
    }
   ],
   "source": [
    "# Print the model summary statistics. This is where you evaluate the performance of the model.\n",
    "\n",
    "print('Slope:' ,regression.coef_)\n",
    "print('Mean squared error: ', rmse)\n",
    "print('R2 score: ', r2)"
   ]
  },
  {
   "cell_type": "markdown",
   "metadata": {},
   "source": [
    "#### - I am not sure if this is the right way of doing a multiple regresion, but if they are correct, then we achived an R2 score of 0.896\n",
    "#### - This shows that there are many several variables that affects the totalRent amount\n",
    "#### - Inreality, there are several factors that determines the total amount for renting an apartment"
   ]
  },
  {
   "cell_type": "code",
   "execution_count": null,
   "metadata": {},
   "outputs": [],
   "source": []
  }
 ],
 "metadata": {
  "kernelspec": {
   "display_name": "Python 3 (ipykernel)",
   "language": "python",
   "name": "python3"
  },
  "language_info": {
   "codemirror_mode": {
    "name": "ipython",
    "version": 3
   },
   "file_extension": ".py",
   "mimetype": "text/x-python",
   "name": "python",
   "nbconvert_exporter": "python",
   "pygments_lexer": "ipython3",
   "version": "3.8.12"
  }
 },
 "nbformat": 4,
 "nbformat_minor": 4
}
